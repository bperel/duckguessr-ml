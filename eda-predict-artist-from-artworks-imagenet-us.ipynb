{
 "metadata": {
  "kernelspec": {
   "language": "python",
   "display_name": "Python 3",
   "name": "python3"
  },
  "language_info": {
   "name": "python",
   "version": "3.7.12",
   "mimetype": "text/x-python",
   "codemirror_mode": {
    "name": "ipython",
    "version": 3
   },
   "pygments_lexer": "ipython3",
   "nbconvert_exporter": "python",
   "file_extension": ".py"
  }
 },
 "nbformat_minor": 4,
 "nbformat": 4,
 "cells": [
  {
   "cell_type": "markdown",
   "source": [
    "### Objective:\n",
    "\n",
    "Develop an algorithm which will identify the artist when provided with a drawing, with state of the art precision."
   ],
   "metadata": {}
  },
  {
   "cell_type": "markdown",
   "source": [
    "Dataset: https://www.kaggle.com/ikarus777/best-artworks-of-all-time"
   ],
   "metadata": {}
  },
  {
   "cell_type": "code",
   "source": [
    "import numpy as np\n",
    "import pandas as pd \n",
    "import cv2\n",
    "import matplotlib.pyplot as plt\n",
    "import seaborn as sns\n",
    "import os\n",
    "from glob import glob\n",
    "%matplotlib inline\n",
    "\n",
    "from keras.layers import Flatten, Dense, BatchNormalization\n",
    "from keras.models import Model\n",
    "from tensorflow.keras.optimizers import Adam \n",
    "from keras.callbacks import ReduceLROnPlateau, EarlyStopping\n",
    "\n",
    "from keras.preprocessing.image import ImageDataGenerator\n"
   ],
   "metadata": {
    "_uuid": "d629ff2d2480ee46fbb7e2d37f6b5fab8052498a",
    "_cell_guid": "79c7e3d0-c299-4dcb-8224-4455121ee9b0",
    "execution": {
     "iopub.status.busy": "2021-12-28T08:34:03.881243Z",
     "iopub.execute_input": "2021-12-28T08:34:03.881750Z",
     "iopub.status.idle": "2021-12-28T08:34:10.293791Z",
     "shell.execute_reply.started": "2021-12-28T08:34:03.881690Z",
     "shell.execute_reply": "2021-12-28T08:34:10.293075Z"
    },
    "trusted": true
   },
   "execution_count": 2,
   "outputs": []
  },
  {
   "cell_type": "code",
   "source": "def plotImages(artist,directory):\n    print(artist)\n    multipleImages = glob(directory)\n    plt.rcParams['figure.figsize'] = (15, 15)\n    plt.subplots_adjust(wspace=0, hspace=0)\n    i_ = 0\n    for l in multipleImages[:25]:\n        im = cv2.imread(l)\n        im = cv2.resize(im, (128, 128)) \n        plt.subplot(5, 5, i_+1) #.set_title(l)\n        plt.imshow(cv2.cvtColor(im, cv2.COLOR_BGR2RGB)); plt.axis('off')\n        i_ += 1",
   "metadata": {
    "execution": {
     "iopub.status.busy": "2021-12-28T08:34:10.294974Z",
     "iopub.execute_input": "2021-12-28T08:34:10.295244Z",
     "iopub.status.idle": "2021-12-28T08:34:10.303412Z",
     "shell.execute_reply.started": "2021-12-28T08:34:10.295209Z",
     "shell.execute_reply": "2021-12-28T08:34:10.302804Z"
    },
    "trusted": true
   },
   "execution_count": 3,
   "outputs": []
  },
  {
   "cell_type": "markdown",
   "source": "### Display some paintaings by **ACo**",
   "metadata": {}
  },
  {
   "cell_type": "code",
   "source": "plotImages(\"ACo\",\"../input/inducks-drawings-by-artist-us/CB/**\")      ",
   "metadata": {
    "execution": {
     "iopub.status.busy": "2021-12-28T08:34:10.308458Z",
     "iopub.execute_input": "2021-12-28T08:34:10.308938Z",
     "iopub.status.idle": "2021-12-28T08:34:12.599932Z",
     "shell.execute_reply.started": "2021-12-28T08:34:10.308902Z",
     "shell.execute_reply": "2021-12-28T08:34:12.597800Z"
    },
    "trusted": true
   },
   "execution_count": 4,
   "outputs": []
  },
  {
   "cell_type": "markdown",
   "source": "### Display some paintaings by **AFe**",
   "metadata": {}
  },
  {
   "cell_type": "code",
   "source": "plotImages(\"AFe\",\"../input/inducks-drawings-by-artist-us/DR/**\")      ",
   "metadata": {
    "execution": {
     "iopub.status.busy": "2021-12-28T08:34:12.600913Z",
     "iopub.execute_input": "2021-12-28T08:34:12.601151Z",
     "iopub.status.idle": "2021-12-28T08:34:14.181405Z",
     "shell.execute_reply.started": "2021-12-28T08:34:12.601119Z",
     "shell.execute_reply": "2021-12-28T08:34:14.180773Z"
    },
    "trusted": true
   },
   "execution_count": 5,
   "outputs": []
  },
  {
   "cell_type": "markdown",
   "source": "### Display some paintaings by **AH**",
   "metadata": {}
  },
  {
   "cell_type": "code",
   "source": "plotImages(\"AH\",\"../input/inducks-drawings-by-artist-us/AH/**\")      ",
   "metadata": {
    "execution": {
     "iopub.status.busy": "2021-12-28T08:34:14.182601Z",
     "iopub.execute_input": "2021-12-28T08:34:14.182962Z",
     "iopub.status.idle": "2021-12-28T08:34:15.977506Z",
     "shell.execute_reply.started": "2021-12-28T08:34:14.182931Z",
     "shell.execute_reply": "2021-12-28T08:34:15.976655Z"
    },
    "trusted": true
   },
   "execution_count": 6,
   "outputs": []
  },
  {
   "cell_type": "markdown",
   "source": "### Load the CSV data",
   "metadata": {}
  },
  {
   "cell_type": "code",
   "source": "artists = pd.read_csv('../input/inducks-drawings-by-artist-us-metadata/artists_popular.csv')",
   "metadata": {
    "execution": {
     "iopub.status.busy": "2021-12-28T08:34:15.978763Z",
     "iopub.execute_input": "2021-12-28T08:34:15.979191Z",
     "iopub.status.idle": "2021-12-28T08:34:15.991760Z",
     "shell.execute_reply.started": "2021-12-28T08:34:15.979156Z",
     "shell.execute_reply": "2021-12-28T08:34:15.991084Z"
    },
    "trusted": true
   },
   "execution_count": 7,
   "outputs": []
  },
  {
   "cell_type": "code",
   "source": "artists",
   "metadata": {
    "execution": {
     "iopub.status.busy": "2021-12-28T08:34:15.993242Z",
     "iopub.execute_input": "2021-12-28T08:34:15.993741Z",
     "iopub.status.idle": "2021-12-28T08:34:16.010819Z",
     "shell.execute_reply.started": "2021-12-28T08:34:15.993687Z",
     "shell.execute_reply": "2021-12-28T08:34:16.010239Z"
    },
    "trusted": true
   },
   "execution_count": 8,
   "outputs": []
  },
  {
   "cell_type": "code",
   "source": "artists.shape",
   "metadata": {
    "execution": {
     "iopub.status.busy": "2021-12-28T08:34:16.011939Z",
     "iopub.execute_input": "2021-12-28T08:34:16.012324Z",
     "iopub.status.idle": "2021-12-28T08:34:16.017649Z",
     "shell.execute_reply.started": "2021-12-28T08:34:16.012293Z",
     "shell.execute_reply": "2021-12-28T08:34:16.016792Z"
    },
    "trusted": true
   },
   "execution_count": 9,
   "outputs": []
  },
  {
   "cell_type": "markdown",
   "source": "Let us do some data exploration\n### Plot drawings by nationality of the cartoonist. ",
   "metadata": {}
  },
  {
   "cell_type": "code",
   "source": "plt.figure(figsize=(5,5))\nnationalityPlot = sns.countplot(y='nationality',data=artists)\nnationalityPlot",
   "metadata": {
    "execution": {
     "iopub.status.busy": "2021-12-28T08:34:16.021819Z",
     "iopub.execute_input": "2021-12-28T08:34:16.022450Z",
     "iopub.status.idle": "2021-12-28T08:34:16.189289Z",
     "shell.execute_reply.started": "2021-12-28T08:34:16.022406Z",
     "shell.execute_reply": "2021-12-28T08:34:16.188575Z"
    },
    "trusted": true
   },
   "execution_count": 10,
   "outputs": []
  },
  {
   "cell_type": "markdown",
   "source": "### Plot artists and count of drawings",
   "metadata": {}
  },
  {
   "cell_type": "code",
   "source": "figsize=(15, 5)\nticksize = 14\ntitlesize = ticksize + 8\nlabelsize = ticksize + 5\n\nparams = {'figure.figsize' : figsize,\n          'axes.labelsize' : labelsize,\n          'axes.titlesize' : titlesize,\n          'xtick.labelsize': ticksize,\n          'ytick.labelsize': ticksize}\n\nplt.rcParams.update(params)\n\ncol1 = \"name\"\ncol2 = \"drawings\"\n\nsns.barplot(x=col1, y=col2, data=artists)\nplt.title(\"Drawing Count by Artist\")\nplt.xlabel(\"Artist\")\nplt.ylabel(\"Drawing Count\")\nplt.xticks(rotation=90)\nplt.plot()",
   "metadata": {
    "execution": {
     "iopub.status.busy": "2021-12-28T08:34:16.193400Z",
     "iopub.execute_input": "2021-12-28T08:34:16.193892Z",
     "iopub.status.idle": "2021-12-28T08:34:16.464192Z",
     "shell.execute_reply.started": "2021-12-28T08:34:16.193862Z",
     "shell.execute_reply": "2021-12-28T08:34:16.463538Z"
    },
    "trusted": true
   },
   "execution_count": 11,
   "outputs": []
  },
  {
   "cell_type": "markdown",
   "source": "### Create dataframe with artists having min of 200 drawings.",
   "metadata": {}
  },
  {
   "cell_type": "markdown",
   "source": "Here I have first sorted data according to feature drawing so that all my data in sorted manner and according to their drawing name. I have taken drawings >200 for our analysis just taken sample data.\n",
   "metadata": {}
  },
  {
   "cell_type": "markdown",
   "source": "I have also added one more feature in this called ‘class_weight’ which put weight on drawings why we want weight actually simple putting weight on something it tells us the importance of that particular thing right.",
   "metadata": {}
  },
  {
   "cell_type": "code",
   "source": "# Sort artists by number of drawings\nartists = artists.sort_values(by=['drawings'], ascending=False)\n\n# Create a dataframe with artists having more than 200 drawings\nartists_top = artists[artists['drawings'] >= 200].reset_index()\nartists_top = artists_top[['personcode', 'drawings']]\n\nartists_top['class_weight'] = artists_top.drawings.sum() / (artists_top.shape[0] * artists_top.drawings)\nartists_top",
   "metadata": {
    "execution": {
     "iopub.status.busy": "2021-12-28T08:34:16.465349Z",
     "iopub.execute_input": "2021-12-28T08:34:16.466065Z",
     "iopub.status.idle": "2021-12-28T08:34:16.484949Z",
     "shell.execute_reply.started": "2021-12-28T08:34:16.466026Z",
     "shell.execute_reply": "2021-12-28T08:34:16.484290Z"
    },
    "trusted": true
   },
   "execution_count": 12,
   "outputs": []
  },
  {
   "cell_type": "markdown",
   "source": "Create a key value pairs of class index and weights",
   "metadata": {}
  },
  {
   "cell_type": "code",
   "source": "# Set class weights - assign higher weights to underrepresented classes\nclass_weights = artists_top['class_weight'].to_dict()\nclass_weights",
   "metadata": {
    "execution": {
     "iopub.status.busy": "2021-12-28T08:34:16.486321Z",
     "iopub.execute_input": "2021-12-28T08:34:16.486578Z",
     "iopub.status.idle": "2021-12-28T08:34:16.492339Z",
     "shell.execute_reply.started": "2021-12-28T08:34:16.486543Z",
     "shell.execute_reply": "2021-12-28T08:34:16.491581Z"
    },
    "trusted": true
   },
   "execution_count": 13,
   "outputs": []
  },
  {
   "cell_type": "code",
   "source": "# There is some problem recognizing 'Albrecht_Dürer' (don't know why, worth exploring)\n# So I'll update this string as directory name to df's\n#updated_name = \"Albrecht_Dürer\".replace(\"_\", \" \")\n#artists_top.iloc[4, 0] = updated_name",
   "metadata": {
    "execution": {
     "iopub.status.busy": "2021-12-28T08:34:16.493873Z",
     "iopub.execute_input": "2021-12-28T08:34:16.494410Z",
     "iopub.status.idle": "2021-12-28T08:34:16.501421Z",
     "shell.execute_reply.started": "2021-12-28T08:34:16.494367Z",
     "shell.execute_reply": "2021-12-28T08:34:16.500486Z"
    },
    "trusted": true
   },
   "execution_count": 14,
   "outputs": []
  },
  {
   "cell_type": "code",
   "source": "# Explore images of top artists\nimages_dir = '../input/inducks-drawings-by-artist-us/'\nartists_dirs = os.listdir(images_dir)\nartists_top_name = artists_top['personcode'].values\n\n# See if all directories exist\nfor name in artists_top_name:\n    if os.path.exists(os.path.join(images_dir, name)):\n        print(\"Found -->\", os.path.join(images_dir, name))\n    else:\n        print(\"Did not find -->\", os.path.join(images_dir, name))",
   "metadata": {
    "execution": {
     "iopub.status.busy": "2021-12-28T08:34:16.503233Z",
     "iopub.execute_input": "2021-12-28T08:34:16.503815Z",
     "iopub.status.idle": "2021-12-28T08:34:16.518227Z",
     "shell.execute_reply.started": "2021-12-28T08:34:16.503773Z",
     "shell.execute_reply": "2021-12-28T08:34:16.517272Z"
    },
    "trusted": true
   },
   "execution_count": 15,
   "outputs": []
  },
  {
   "cell_type": "markdown",
   "source": "### Print few random drawings along with artists name",
   "metadata": {}
  },
  {
   "cell_type": "markdown",
   "source": "Lets display some random drawings for clear visualization whats happening right.",
   "metadata": {}
  },
  {
   "cell_type": "code",
   "source": "# Print few random drawings\nimport random\nn = 5\nfig, axes = plt.subplots(1, n, figsize=(20,10))\n\nfor i in range(n):\n    random_artist = random.choice(artists_top_name)\n    random_image = random.choice(os.listdir(os.path.join(images_dir, random_artist)))\n    random_image_file = os.path.join(images_dir, random_artist, random_image)\n    print (random_image_file)\n    image = plt.imread(random_image_file)\n    axes[i].imshow(image)\n    axes[i].set_title(\"Artist: \" + random_artist)\n    axes[i].axis('off')\n\nplt.show()",
   "metadata": {
    "execution": {
     "iopub.status.busy": "2021-12-28T08:34:16.519998Z",
     "iopub.execute_input": "2021-12-28T08:34:16.520613Z",
     "iopub.status.idle": "2021-12-28T08:34:17.053206Z",
     "shell.execute_reply.started": "2021-12-28T08:34:16.520571Z",
     "shell.execute_reply": "2021-12-28T08:34:17.052554Z"
    },
    "trusted": true
   },
   "execution_count": 16,
   "outputs": []
  },
  {
   "cell_type": "markdown",
   "source": "### Data Augmentation\n",
   "metadata": {}
  },
  {
   "cell_type": "markdown",
   "source": "Data Augmentation is a strategy that enables practitioners to significantly increase the diversity of data available for training models, without actually collecting new data. This technique like padding , cropping , shifting , flipping etc.",
   "metadata": {}
  },
  {
   "cell_type": "markdown",
   "source": "**ImageDataGenerator()** the ImageDataGenerator accepts the original data, randomly transforms it, and returns only the new, transformed data.",
   "metadata": {}
  },
  {
   "cell_type": "code",
   "source": "batch_size = 64\ntrain_input_shape = (224, 224, 3)\nn_classes = artists_top.shape[0]\n\ntrain_datagen = ImageDataGenerator(validation_split=0.2,\n                                   rescale=1./255.,\n                                   #rotation_range=45,\n                                   #width_shift_range=0.5,\n                                   #height_shift_range=0.5,\n                                   shear_range=5,\n                                   #zoom_range=0.7,\n                                   horizontal_flip=True,\n                                   vertical_flip=True,\n                                  )\n\ntrain_generator = train_datagen.flow_from_directory(directory=images_dir,\n                                                    class_mode='categorical',\n                                                    target_size=train_input_shape[0:2],\n                                                    batch_size=batch_size,\n                                                    subset=\"training\",\n                                                    shuffle=True,\n                                                    classes=artists_top_name.tolist()\n                                                   )\n\nvalid_generator = train_datagen.flow_from_directory(directory=images_dir,\n                                                    class_mode='categorical',\n                                                    target_size=train_input_shape[0:2],\n                                                    batch_size=batch_size,\n                                                    subset=\"validation\",\n                                                    shuffle=True,\n                                                    classes=artists_top_name.tolist()\n                                                   )\n\nSTEP_SIZE_TRAIN = train_generator.n//train_generator.batch_size\nSTEP_SIZE_VALID = valid_generator.n//valid_generator.batch_size\nprint(\"Total number of batches =\", STEP_SIZE_TRAIN, \"and\", STEP_SIZE_VALID)",
   "metadata": {
    "execution": {
     "iopub.status.busy": "2021-12-28T08:34:17.054326Z",
     "iopub.execute_input": "2021-12-28T08:34:17.054886Z",
     "iopub.status.idle": "2021-12-28T08:34:18.999827Z",
     "shell.execute_reply.started": "2021-12-28T08:34:17.054847Z",
     "shell.execute_reply": "2021-12-28T08:34:18.998622Z"
    },
    "trusted": true
   },
   "execution_count": 17,
   "outputs": []
  },
  {
   "cell_type": "markdown",
   "source": "### Build Model\n",
   "metadata": {}
  },
  {
   "cell_type": "markdown",
   "source": "So here in this part we are going to build model which train our data as previously I have mentioned that I will use state of the art technique like **ResNet50** model. I can use CNN(Convolutional Neural Network) but when I read the research paper that **ResNet50** network does a tremendous job on image data so let’s begin this section.",
   "metadata": {}
  },
  {
   "cell_type": "markdown",
   "source": "**ResNet50** model is also called identity layer why because the sole purpose of identity layer is skip-connection that means skip one layer in ResNet model which helps reducing vanishing gradient problem ",
   "metadata": {}
  },
  {
   "cell_type": "markdown",
   "source": "The ResNet model is adapted to the 1000 categories of ImageNet. Our task, however, is to classify some artists.\n\nWhat can we do? With keras, it's easy to import only the convolutional part of VGG16, by setting the include_top parameter to False :",
   "metadata": {}
  },
  {
   "cell_type": "code",
   "source": "# Load pre-trained model\nfrom tensorflow.keras.applications import ResNet50\nbase_model = ResNet50(weights='imagenet', include_top=False, input_shape=train_input_shape)\n\nfor layer in base_model.layers:\n    layer.trainable = True",
   "metadata": {
    "execution": {
     "iopub.status.busy": "2021-12-28T08:34:19.001016Z",
     "iopub.execute_input": "2021-12-28T08:34:19.001266Z",
     "iopub.status.idle": "2021-12-28T08:34:23.183353Z",
     "shell.execute_reply.started": "2021-12-28T08:34:19.001229Z",
     "shell.execute_reply": "2021-12-28T08:34:23.182659Z"
    },
    "trusted": true
   },
   "execution_count": 18,
   "outputs": []
  },
  {
   "cell_type": "code",
   "source": "base_model.summary()",
   "metadata": {
    "execution": {
     "iopub.status.busy": "2021-12-28T08:34:23.184622Z",
     "iopub.execute_input": "2021-12-28T08:34:23.184891Z",
     "iopub.status.idle": "2021-12-28T08:34:23.263068Z",
     "shell.execute_reply.started": "2021-12-28T08:34:23.184857Z",
     "shell.execute_reply": "2021-12-28T08:34:23.262395Z"
    },
    "trusted": true
   },
   "execution_count": 19,
   "outputs": []
  },
  {
   "cell_type": "markdown",
   "source": "ImageNet is an image database organized according to the WordNet hierarchy this is freely available for researcher and data scientist for research purposes.",
   "metadata": {}
  },
  {
   "cell_type": "markdown",
   "source": "### Create your Convolutional Neural Network",
   "metadata": {}
  },
  {
   "cell_type": "code",
   "source": "classifier = Flatten()(base_model.output)\n\n#Initialize the CNN\nclassifier = Dense(512, activation='relu')(classifier)\nclassifier = BatchNormalization()(classifier)\n\nclassifier= Dense(16, activation='relu')(classifier)\nclassifier = BatchNormalization()(classifier)\n\noutput = Dense(n_classes, activation = 'softmax')(classifier)",
   "metadata": {
    "execution": {
     "iopub.status.busy": "2021-12-28T08:34:23.264134Z",
     "iopub.execute_input": "2021-12-28T08:34:23.264386Z",
     "iopub.status.idle": "2021-12-28T08:34:23.314588Z",
     "shell.execute_reply.started": "2021-12-28T08:34:23.264351Z",
     "shell.execute_reply": "2021-12-28T08:34:23.313947Z"
    },
    "trusted": true
   },
   "execution_count": 20,
   "outputs": []
  },
  {
   "cell_type": "code",
   "source": "model = Model(inputs=base_model.input, outputs=output)",
   "metadata": {
    "execution": {
     "iopub.status.busy": "2021-12-28T08:34:23.315924Z",
     "iopub.execute_input": "2021-12-28T08:34:23.316177Z",
     "iopub.status.idle": "2021-12-28T08:34:23.332349Z",
     "shell.execute_reply.started": "2021-12-28T08:34:23.316143Z",
     "shell.execute_reply": "2021-12-28T08:34:23.331550Z"
    },
    "trusted": true
   },
   "execution_count": 21,
   "outputs": []
  },
  {
   "cell_type": "markdown",
   "source": "### Compile the CNN",
   "metadata": {}
  },
  {
   "cell_type": "code",
   "source": "#Compile the CNN\nmodel.compile(optimizer = Adam(learning_rate =0.0001), loss = 'categorical_crossentropy', metrics = ['accuracy'])",
   "metadata": {
    "execution": {
     "iopub.status.busy": "2021-12-28T08:34:23.333452Z",
     "iopub.execute_input": "2021-12-28T08:34:23.333768Z",
     "iopub.status.idle": "2021-12-28T08:34:23.352532Z",
     "shell.execute_reply.started": "2021-12-28T08:34:23.333719Z",
     "shell.execute_reply": "2021-12-28T08:34:23.351878Z"
    },
    "trusted": true
   },
   "execution_count": 22,
   "outputs": []
  },
  {
   "cell_type": "markdown",
   "source": "### Train Model\n",
   "metadata": {}
  },
  {
   "cell_type": "code",
   "source": "n_epoch = 10\n\nearly_stop = EarlyStopping(monitor='val_loss', patience=20, verbose=1, \n                           mode='auto', restore_best_weights=True)\n\nreduce_lr = ReduceLROnPlateau(monitor='val_loss', factor=0.1, patience=5, \n                              verbose=1, mode='auto')",
   "metadata": {
    "execution": {
     "iopub.status.busy": "2021-12-28T08:34:23.353819Z",
     "iopub.execute_input": "2021-12-28T08:34:23.354085Z",
     "iopub.status.idle": "2021-12-28T08:34:23.360963Z",
     "shell.execute_reply.started": "2021-12-28T08:34:23.354051Z",
     "shell.execute_reply": "2021-12-28T08:34:23.360247Z"
    },
    "trusted": true
   },
   "execution_count": 23,
   "outputs": []
  },
  {
   "cell_type": "code",
   "source": "history = model.fit_generator(generator=train_generator, steps_per_epoch=STEP_SIZE_TRAIN,\n                              validation_data=valid_generator, validation_steps=STEP_SIZE_VALID,\n                              epochs=n_epoch,\n                              shuffle=True,\n                              verbose=1,\n                              callbacks=[reduce_lr],\n                              use_multiprocessing=True,\n                              workers=16,\n                              class_weight=class_weights\n                             )",
   "metadata": {
    "execution": {
     "iopub.status.busy": "2021-12-28T08:34:23.362654Z",
     "iopub.execute_input": "2021-12-28T08:34:23.363180Z",
     "iopub.status.idle": "2021-12-28T09:01:57.510974Z",
     "shell.execute_reply.started": "2021-12-28T08:34:23.363139Z",
     "shell.execute_reply": "2021-12-28T09:01:57.509897Z"
    },
    "trusted": true
   },
   "execution_count": 24,
   "outputs": []
  },
  {
   "cell_type": "markdown",
   "source": "Here is the result after training the model for first time accuracy touched by my model is 0.98 or (98%) and loss reduce from 1.07 to 0.21 means model doing good now we freeze layers and re-train again.",
   "metadata": {}
  },
  {
   "cell_type": "markdown",
   "source": "### Fine tuning the model",
   "metadata": {}
  },
  {
   "cell_type": "markdown",
   "source": "Freezing a layer prevents its weights from being modified. This technique is often used in transfer learning, where the base model(trained on some other dataset)is frozen indicating that this layer should not be trained",
   "metadata": {}
  },
  {
   "cell_type": "code",
   "source": "# Freeze core ResNet layers and train again \nfor layer in model.layers:\n    layer.trainable = False\n\nfor layer in model.layers[:50]:\n    layer.trainable = True\n\noptimizer = Adam(learning_rate=0.0001)\n\nmodel.compile(loss='categorical_crossentropy',\n              optimizer=optimizer, \n              metrics=['accuracy'])\n\nn_epoch = 50\nhistory2 = model.fit_generator(generator=train_generator, steps_per_epoch=STEP_SIZE_TRAIN,\n                              validation_data=valid_generator, validation_steps=STEP_SIZE_VALID,\n                              epochs=n_epoch,\n                              shuffle=True,\n                              verbose=1,\n                              callbacks=[reduce_lr, early_stop],\n                              use_multiprocessing=True,\n                              workers=16,\n                              class_weight=class_weights\n                             )",
   "metadata": {
    "execution": {
     "iopub.status.busy": "2021-12-28T09:01:57.513243Z",
     "iopub.execute_input": "2021-12-28T09:01:57.513475Z"
    },
    "trusted": true
   },
   "execution_count": null,
   "outputs": []
  },
  {
   "cell_type": "code",
   "source": "plt.figure(figsize=(10, 10))\n\nplt.subplot(2, 2, 1)\nplt.plot(history.history['loss'], label='Loss')\nplt.plot(history.history['val_loss'], label='Validation Loss')\nplt.legend()\nplt.title('Training - Loss Function')\n\nplt.subplot(2, 2, 2)\nplt.plot(history.history['accuracy'], label='Accuracy')\nplt.plot(history.history['val_accuracy'], label='Validation Accuracy')\nplt.legend()\nplt.title('Train - Accuracy')",
   "metadata": {
    "trusted": true
   },
   "execution_count": null,
   "outputs": []
  },
  {
   "cell_type": "code",
   "source": "# Prediction accuracy on train data\nscore = model.evaluate_generator(train_generator, verbose=1)\nprint(\"Prediction accuracy on train data =\", score[1])",
   "metadata": {
    "trusted": true
   },
   "execution_count": null,
   "outputs": []
  },
  {
   "cell_type": "code",
   "source": "score = model.evaluate_generator(valid_generator, verbose=1)\nprint(\"Prediction accuracy on test data =\", score[1])",
   "metadata": {
    "trusted": true
   },
   "execution_count": null,
   "outputs": []
  },
  {
   "cell_type": "markdown",
   "source": "### print classification report",
   "metadata": {}
  },
  {
   "cell_type": "markdown",
   "source": "### Test Model\n\nHere taking randomly 5 images and giving this random images to model to predict the artist by giving 5 random images that belong to particular artist or not.",
   "metadata": {}
  },
  {
   "cell_type": "code",
   "source": "# Prediction\nfrom keras.preprocessing import *\n\nn = 4\nfig, axes = plt.subplots(1, n, figsize=(25,10))\n\nfor i in range(n):\n    random_artist = random.choice(artists_top_name)\n    random_image = random.choice(os.listdir(os.path.join(images_dir, random_artist)))\n    random_image_file = os.path.join(images_dir, random_artist, random_image)\n\n    # Original image\n\n    test_image = image.load_img(random_image_file, target_size=(train_input_shape[0:2]))\n\n    # Predict artist\n    test_image = image.img_to_array(test_image)\n    test_image /= 255.\n    test_image = np.expand_dims(test_image, axis=0)\n\n    prediction = model.predict(test_image)\n    prediction_probability = np.amax(prediction)\n    prediction_idx = np.argmax(prediction)\n\n    labels = train_generator.class_indices\n    labels = dict((v,k) for k,v in labels.items())\n\n    title = \"Actual artist = {}\\nPredicted artist = {}\\nPrediction probability = {:.2f} %\" \\\n                .format(random_artist.replace('_', ' '), labels[prediction_idx].replace('_', ' '),\n                        prediction_probability*100)\n\n    # Print image\n    axes[i].imshow(plt.imread(random_image_file))\n    axes[i].set_title(title)\n    axes[i].axis('off')\n\nplt.show()",
   "metadata": {
    "trusted": true
   },
   "execution_count": null,
   "outputs": []
  },
  {
   "cell_type": "markdown",
   "source": "So, from above we could see that given 4 random images our model predicted right artist name with given image on average probability of around 87% and above.",
   "metadata": {}
  },
  {
   "cell_type": "code",
   "source": "model.save('model.keras')",
   "metadata": {
    "trusted": true
   },
   "execution_count": null,
   "outputs": []
  }
 ]
}